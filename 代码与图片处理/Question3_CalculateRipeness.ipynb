{
 "cells": [
  {
   "cell_type": "code",
   "execution_count": 9,
   "metadata": {},
   "outputs": [],
   "source": [
    "import os\n",
    "import cv2\n",
    "\n",
    "def calculate_pixel_sum(image):\n",
    "    # 将图像转换为HSV颜色空间\n",
    "    hsv_image = cv2.cvtColor(image, cv2.COLOR_BGR2HSV)\n",
    "\n",
    "    # 定义红色和绿色的颜色范围\n",
    "    lower_red = (0, 100, 100)\n",
    "    upper_red = (10, 255, 255)\n",
    "\n",
    "    lower_green = (40, 40, 40)\n",
    "    upper_green = (80, 255, 255)\n",
    "\n",
    "    # 创建颜色掩模\n",
    "    red_mask = cv2.inRange(hsv_image, lower_red, upper_red)\n",
    "    green_mask = cv2.inRange(hsv_image, lower_green, upper_green)\n",
    "\n",
    "    # 计算红色和绿色像素点的数量\n",
    "    red_pixel_count = cv2.countNonZero(red_mask)\n",
    "    green_pixel_count = cv2.countNonZero(green_mask)\n",
    "\n",
    "    return red_pixel_count, green_pixel_count\n",
    "\n",
    "def process_images(input_dir):\n",
    "    # 遍历输入目录中的所有.jpg文件\n",
    "    for filename in os.listdir(input_dir):\n",
    "        if filename.endswith(\".jpg\"):\n",
    "            # 读取图像\n",
    "            FoldNames.append(in2)\n",
    "            JpgNames.append(filename)\n",
    "            input_path = os.path.join(input_dir, filename)\n",
    "            image = cv2.imread(input_path)\n",
    "\n",
    "            # 计算红色和绿色像素点的数量\n",
    "            red_count, green_count = calculate_pixel_sum(image)\n",
    "\n",
    "            # 计算红色和绿色像素点的代表值的相加和\n",
    "            # total_sum = red_count - green_count\n",
    "\n",
    "            # print(f\"{filename}: Red Count = {red_count}, Green Count = {green_count}, Total Sum = {total_sum}\")\n",
    "            if red_count + green_count != 0:\n",
    "                Rip = (red_count - green_count) / (red_count + green_count)\n",
    "                Ripeness.append(Rip)\n",
    "            else:\n",
    "                Ripeness.append(0)\n",
    "\n",
    "if __name__ == \"__main__\":\n",
    "    # 指定输入目录\n",
    "    FoldNames=[]\n",
    "    JpgNames=[]\n",
    "    Ripeness=[]\n",
    "    for i in range(200):\n",
    "        in1='./FillterColorApples/'\n",
    "        in2=str(i+1)\n",
    "        in3='/'\n",
    "        input_directory = in1+in2+in3\n",
    "        # 处理图像\n",
    "        process_images(input_directory)\n"
   ]
  },
  {
   "cell_type": "code",
   "execution_count": 11,
   "metadata": {},
   "outputs": [],
   "source": [
    "data={\n",
    "    'FoldNames':FoldNames,\n",
    "    'JpgNames':JpgNames,\n",
    "    'Ripeness':Ripeness\n",
    "}"
   ]
  },
  {
   "cell_type": "code",
   "execution_count": 14,
   "metadata": {},
   "outputs": [],
   "source": [
    "import pandas as pd\n",
    "data=pd.DataFrame(data)\n",
    "data.to_csv('EveryAppleRipeness.csv',index=False)"
   ]
  }
 ],
 "metadata": {
  "kernelspec": {
   "display_name": "yolo",
   "language": "python",
   "name": "python3"
  },
  "language_info": {
   "codemirror_mode": {
    "name": "ipython",
    "version": 3
   },
   "file_extension": ".py",
   "mimetype": "text/x-python",
   "name": "python",
   "nbconvert_exporter": "python",
   "pygments_lexer": "ipython3",
   "version": "3.9.18"
  }
 },
 "nbformat": 4,
 "nbformat_minor": 2
}
