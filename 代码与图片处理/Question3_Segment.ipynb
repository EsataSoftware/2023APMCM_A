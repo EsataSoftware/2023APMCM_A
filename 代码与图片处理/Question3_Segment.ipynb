{
 "cells": [
  {
   "cell_type": "code",
   "execution_count": 2,
   "metadata": {},
   "outputs": [],
   "source": [
    "import os\n",
    "import cv2\n",
    "import shutil\n",
    "\n",
    "def crop_and_save_images(image_directory, output_base_directory, label_directory):\n",
    "    # 获取图像目录下所有图片文件\n",
    "    image_files = [f for f in os.listdir(image_directory) if f.lower().endswith(('.png', '.jpg', '.jpeg', '.bmp', '.gif'))]\n",
    "\n",
    "    for image_file in image_files:\n",
    "        # 构建图像文件和标签文件的完整路径\n",
    "        image_path = os.path.join(image_directory, image_file)\n",
    "        label_path = os.path.join(label_directory, os.path.splitext(image_file)[0] + '.txt')\n",
    "\n",
    "        # 检查标签文件是否存在\n",
    "        if not os.path.exists(label_path):\n",
    "            continue\n",
    "\n",
    "        # 读取原始图像\n",
    "        image = cv2.imread(image_path)\n",
    "\n",
    "        # 创建输出目录\n",
    "        output_directory = os.path.join(output_base_directory, os.path.splitext(image_file)[0])\n",
    "        os.makedirs(output_directory, exist_ok=True)\n",
    "\n",
    "        # 读取YOLO格式的检测结果\n",
    "        with open(label_path, 'r') as file:\n",
    "            lines = file.readlines()\n",
    "\n",
    "        for line in lines:\n",
    "            # 提取边界框信息\n",
    "            class_id, x_center, y_center, width, height = map(float, line.strip().split())\n",
    "\n",
    "            # 转换为绝对坐标\n",
    "            img_height, img_width, _ = image.shape\n",
    "            x, y, w, h = int((x_center - width / 2) * img_width), int((y_center - height / 2) * img_height), int(width * img_width), int(height * img_height)\n",
    "\n",
    "            # 裁剪图像\n",
    "            cropped_img = image[y:y+h, x:x+w]\n",
    "\n",
    "            # 保存裁剪的图像\n",
    "            output_file = os.path.join(output_directory, f\"cropped_{class_id}_{x}_{y}_{w}_{h}.jpg\")\n",
    "            cv2.imwrite(output_file, cropped_img)\n",
    "\n",
    "if __name__ == \"__main__\":\n",
    "    # 图像文件目录\n",
    "    image_directory = './Attachment_1/'\n",
    "    # YOLO检测结果文件目录\n",
    "    label_directory = './yolov5-master/runs/detect/exp2/labels/'\n",
    "    # 输出基础目录（将会在此目录下创建与检测文件同名的目录）\n",
    "    output_base_directory = './SegmentApple/'\n",
    "    # 裁剪并保存图像\n",
    "    crop_and_save_images(image_directory, output_base_directory, label_directory)"
   ]
  }
 ],
 "metadata": {
  "kernelspec": {
   "display_name": "yolo",
   "language": "python",
   "name": "python3"
  },
  "language_info": {
   "codemirror_mode": {
    "name": "ipython",
    "version": 3
   },
   "file_extension": ".py",
   "mimetype": "text/x-python",
   "name": "python",
   "nbconvert_exporter": "python",
   "pygments_lexer": "ipython3",
   "version": "3.9.18"
  }
 },
 "nbformat": 4,
 "nbformat_minor": 2
}
