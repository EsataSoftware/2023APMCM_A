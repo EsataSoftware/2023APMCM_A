{
 "cells": [
  {
   "cell_type": "code",
   "execution_count": 3,
   "metadata": {},
   "outputs": [
    {
     "name": "stdout",
     "output_type": "stream",
     "text": [
      "总计:20705it\n"
     ]
    },
    {
     "name": "stderr",
     "output_type": "stream",
     "text": [
      "20705it [02:08, 161.30it/s]"
     ]
    },
    {
     "name": "stdout",
     "output_type": "stream",
     "text": [
      "切分完成\n",
      "保存路径为：./fruit/\n"
     ]
    },
    {
     "name": "stderr",
     "output_type": "stream",
     "text": [
      "\n"
     ]
    }
   ],
   "source": [
    "import os\n",
    "import torch\n",
    "from torchvision import datasets, transforms\n",
    "from torchvision.utils import save_image\n",
    "from tqdm import tqdm\n",
    "import math\n",
    "\n",
    "\n",
    "def data_split(src_data_path, target_data_path, train_scale, val_scale, test_scale, num_workers, img_format):\n",
    "    data = datasets.ImageFolder(src_data_path, transforms.ToTensor())\n",
    "    class_name = list(data.class_to_idx.keys())\n",
    "    image_size = len(data)\n",
    "    print(\"总计:\" + str(image_size) + \"it\")\n",
    "    train_size = math.ceil(image_size * train_scale)\n",
    "    test_size = min(image_size - train_size, math.ceil(image_size * test_scale))\n",
    "    val_size = min(image_size - train_size - test_size, math.ceil(image_size * val_scale))\n",
    "    loader = torch.utils.data.DataLoader(data, batch_size=1, shuffle=True, num_workers=num_workers)\n",
    "\n",
    "    for C in class_name:\n",
    "        if not os.path.isdir(os.path.join(target_data_path, 'train', C)) and train_scale:\n",
    "            os.makedirs(os.path.join(target_data_path, 'train', C))\n",
    "        if not os.path.isdir(os.path.join(target_data_path, 'test', C)) and test_scale:\n",
    "            os.makedirs(os.path.join(target_data_path, 'test', C))\n",
    "        if not os.path.isdir(os.path.join(target_data_path, 'val', C)) and val_scale:\n",
    "            os.makedirs(os.path.join(target_data_path, 'val', C))\n",
    "\n",
    "    for index, (image, label) in tqdm(enumerate(loader)):\n",
    "        if train_size > 0:\n",
    "            save_image(image,\n",
    "                       os.path.join(target_data_path, 'train', class_name[label.item()], str(index + 1) + '.' + img_format))\n",
    "            train_size -= 1\n",
    "\n",
    "        elif test_size > 0:\n",
    "            save_image(image,\n",
    "                       os.path.join(target_data_path, 'test', class_name[label.item()], str(index + 1) + '.' + img_format))\n",
    "            test_size -= 1\n",
    "\n",
    "        elif val_size > 0:\n",
    "            save_image(image,\n",
    "                       os.path.join(target_data_path, 'val', class_name[label.item()], str(index + 1) + '.' + img_format))\n",
    "            val_size -= 1\n",
    "\n",
    "    print(\"切分完成\\n保存路径为：\" + target_data_path)\n",
    "\n",
    "\n",
    "if __name__ == '__main__':\n",
    "    data_split(\n",
    "        src_data_path='./Attachment_2/',\n",
    "        target_data_path='./fruit/',\n",
    "        train_scale=0.8,\n",
    "        test_scale=0.2,\n",
    "        val_scale=0.0,\n",
    "        num_workers=12,\n",
    "        img_format='jpg'\n",
    "    )"
   ]
  }
 ],
 "metadata": {
  "kernelspec": {
   "display_name": "yolo",
   "language": "python",
   "name": "python3"
  },
  "language_info": {
   "codemirror_mode": {
    "name": "ipython",
    "version": 3
   },
   "file_extension": ".py",
   "mimetype": "text/x-python",
   "name": "python",
   "nbconvert_exporter": "python",
   "pygments_lexer": "ipython3",
   "version": "3.9.18"
  }
 },
 "nbformat": 4,
 "nbformat_minor": 2
}
