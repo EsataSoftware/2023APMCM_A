{
 "cells": [
  {
   "cell_type": "code",
   "execution_count": 4,
   "metadata": {},
   "outputs": [
    {
     "name": "stdout",
     "output_type": "stream",
     "text": [
      "Total lines in all txt files: 30704\n"
     ]
    }
   ],
   "source": [
    "import os\n",
    "import matplotlib.pyplot as plt\n",
    "\n",
    "def count_lines_in_txt_files(directory):\n",
    "    total_lines = 0\n",
    "\n",
    "    # 遍历目录中的所有文件\n",
    "    for filename in os.listdir(directory):\n",
    "        # 检查文件是否是txt文件\n",
    "        if filename.endswith(\".txt\"):\n",
    "            file_path = os.path.join(directory, filename)\n",
    "            \n",
    "            # 打开文件并统计行数\n",
    "            with open(file_path, 'r', encoding='utf-8') as file:\n",
    "                lines = file.readlines()\n",
    "                total_lines += len(lines)\n",
    "                EveryImageApples.append(len(lines))\n",
    "\n",
    "    return total_lines\n",
    "\n",
    "# 指定目标目录路径\n",
    "target_directory = './yolov5-master/runs/detect/exp3/labels'\n",
    "\n",
    "# 统计行数并输出结果\n",
    "EveryImageApples=[]\n",
    "lines_count = count_lines_in_txt_files(target_directory)\n",
    "print(f\"Total lines in all txt files: {lines_count}\")\n",
    "plt.bar(range(len(EveryImageApples)),EveryImageApples)\n",
    "plt.show()"
   ]
  },
  {
   "cell_type": "code",
   "execution_count": 11,
   "metadata": {},
   "outputs": [],
   "source": [
    "import os\n",
    "import matplotlib.pyplot as plt\n",
    "\n",
    "def count_lines_in_txt_files(directory):\n",
    "    total_lines = 0\n",
    "\n",
    "    # 遍历目录中的所有文件\n",
    "    for filename in os.listdir(directory):\n",
    "        # 检查文件是否是txt文件\n",
    "        if filename.endswith(\".txt\"):\n",
    "            file_path = os.path.join(directory, filename)\n",
    "            \n",
    "            # 打开文件并统计行数\n",
    "            with open(file_path, 'r', encoding='utf-8') as file:\n",
    "                lines = file.readlines()\n",
    "                EveryImageApples.append(len(lines))\n",
    "\n",
    "# 指定目标目录路径\n",
    "target_directory = './yolov5-master/runs/detect/exp4/labels'\n",
    "# 统计行数并输出结果\n",
    "EveryImageApples=[]\n",
    "count_lines_in_txt_files(target_directory)"
   ]
  },
  {
   "cell_type": "code",
   "execution_count": 17,
   "metadata": {},
   "outputs": [
    {
     "data": {
      "image/png": "[encoded data removed]",
      "text/plain": [
       "<Figure size 640x480 with 1 Axes>"
      ]
     },
     "metadata": {},
     "output_type": "display_data"
    }
   ],
   "source": [
    "plt.bar(range(len(EveryImageApples)),EveryImageApples)\n",
    "plt.title('Classify Apple Images\\' Counts')\n",
    "plt.ylabel('counts')\n",
    "plt.savefig('Question5.png',dpi=1200)\n",
    "plt.show()"
   ]
  }
 ],
 "metadata": {
  "kernelspec": {
   "display_name": "yolo",
   "language": "python",
   "name": "python3"
  },
  "language_info": {
   "codemirror_mode": {
    "name": "ipython",
    "version": 3
   },
   "file_extension": ".py",
   "mimetype": "text/x-python",
   "name": "python",
   "nbconvert_exporter": "python",
   "pygments_lexer": "ipython3",
   "version": "3.9.18"
  }
 },
 "nbformat": 4,
 "nbformat_minor": 2
}
