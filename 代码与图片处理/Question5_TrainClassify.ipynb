{
 "cells": [
  {
   "cell_type": "code",
   "execution_count": null,
   "metadata": {},
   "outputs": [],
   "source": [
    "from ultralytics import YOLO\n",
    "if __name__ == '__main__':\n",
    "\n",
    "    # 加载模型\n",
    "    model = YOLO('yolov8l-cls.yaml')  # 从YAML构建新模型\n",
    "    model = YOLO('yolov8l-cls.pt')  # 加载预训练模型（推荐用于训练）\n",
    "    model = YOLO('yolov8l-cls.yaml').load('yolov8l-cls.pt')  # 从YAML构建并转移权重\n",
    "\n",
    "    # 训练模型\n",
    "    results = model.train(data='/home/yolov8/fruit', epochs=500,imgsz=220)"
   ]
  },
  {
   "cell_type": "code",
   "execution_count": null,
   "metadata": {},
   "outputs": [],
   "source": [
    "for i in range(20705):\n",
    "    f=str(i+1)\n",
    "    b='.txt'\n",
    "    result=results[i]\n",
    "    result.save_txt(f+b)"
   ]
  },
  {
   "cell_type": "code",
   "execution_count": null,
   "metadata": {},
   "outputs": [],
   "source": [
    "from ultralytics import YOLO\n",
    "import re\n",
    "\n",
    "# 加载模型\n",
    "# model = YOLO('yolov8n-cls.pt')  # 加载官方模型\n",
    "model = YOLO('/home/yolov8/ultralytics-main/ultralytics/models/yolo/classify/runs/classify/train2/weights/best.pt')  # 加载自定义模型\n",
    "# 使用模型进行预测\n",
    "results = model('')\n",
    "\n",
    "for result in results:\n",
    "    name=result.path\n",
    "    n=re.search(r'Fruit \\((\\d+)\\)', name)\n",
    "    front='./out/'\n",
    "    frontname=n.group()\n",
    "    extendname='.txt'\n",
    "    result.save_txt(front+frontname+extendname)"
   ]
  },
  {
   "cell_type": "code",
   "execution_count": 3,
   "metadata": {},
   "outputs": [],
   "source": [
    "import os\n",
    "\n",
    "directory_path = './ClassifyTXT/'\n",
    "NameId=[]\n",
    "\n",
    "# 检查目录下的所有文件\n",
    "for i in range(20705):\n",
    "    front1='./ClassifyTXT/'\n",
    "    front2='Fruit ('\n",
    "    middle=str(i+1)\n",
    "    extends_txt=').txt'\n",
    "    extends_jpg=').jpg'\n",
    "    file_path=front1+front2+middle+extends_txt\n",
    "    # 读取文件的第一行\n",
    "    with open(file_path, 'r') as file:\n",
    "        first_line = file.readline().strip()\n",
    "        # 检查第一行是否包含 '1.00 Apple'\n",
    "        if first_line == '1.00 Apple':\n",
    "            # print(f\"文件名 '{filename}' 包含 '1.00 Apple'\")\n",
    "            NameId.append(front1+front2+middle+extends_jpg)"
   ]
  },
  {
   "cell_type": "code",
   "execution_count": 6,
   "metadata": {},
   "outputs": [],
   "source": [
    "# 保存为txt文件\n",
    "with open('AppleClassifyNames.txt', 'w') as f:\n",
    "    for item in NameId:\n",
    "        f.write(\"%s\\n\" % item)"
   ]
  }
 ],
 "metadata": {
  "kernelspec": {
   "display_name": "yolo",
   "language": "python",
   "name": "python3"
  },
  "language_info": {
   "codemirror_mode": {
    "name": "ipython",
    "version": 3
   },
   "file_extension": ".py",
   "mimetype": "text/x-python",
   "name": "python",
   "nbconvert_exporter": "python",
   "pygments_lexer": "ipython3",
   "version": "3.9.18"
  }
 },
 "nbformat": 4,
 "nbformat_minor": 2
}
